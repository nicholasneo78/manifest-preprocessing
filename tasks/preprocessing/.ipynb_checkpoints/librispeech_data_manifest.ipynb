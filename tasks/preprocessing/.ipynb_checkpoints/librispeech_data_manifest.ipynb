{
 "cells": [
  {
   "cell_type": "code",
   "execution_count": 1,
   "metadata": {},
   "outputs": [],
   "source": [
    "# imports\n",
    "import os\n",
    "from os.path import join\n",
    "from tqdm import tqdm\n",
    "import numpy as np\n",
    "import pandas as pd\n",
    "import json\n",
    "import librosa"
   ]
  },
  {
   "cell_type": "code",
   "execution_count": 2,
   "metadata": {},
   "outputs": [],
   "source": [
    "# DEFINING CONSTANTS FOR THE FILE NAMING\n",
    "ROOT_FOLDER = './librispeech_data/'\n",
    "MANIFEST_FILENAME = 'manifest'\n",
    "MANIFEST_FILENAME_NO_LABEL = 'manifest_no_annotation'\n",
    "GOT_ANNOTATION = [True, False]"
   ]
  },
  {
   "cell_type": "code",
   "execution_count": 3,
   "metadata": {},
   "outputs": [],
   "source": [
    "# build a class to produce the librispeech data manifest\n",
    "class LibrispeechManifest():\n",
    "    \n",
    "    def __init__(self, root_folder, manifest_filename, got_annotation):\n",
    "        self.root_folder = root_folder\n",
    "        self.manifest_filename = manifest_filename\n",
    "        self.got_annotation = got_annotation\n",
    "    \n",
    "    # check if the json file name already existed (if existed, need to throw error or else the new json manifest will be appended to the old one, hence causing a file corruption)\n",
    "    def json_existence(self):\n",
    "        assert not os.path.isfile(f'{self.root_folder}{self.manifest_filename}.json'), \"json filename exists! Please remove old json file!\"\n",
    "    \n",
    "    # helper function to build the lookup table for the id and annotations from all the text files and return the table\n",
    "    def build_lookup_table(self):\n",
    "        #initiate list to store the id and annotations lookup\n",
    "        split_list_frame = []\n",
    "\n",
    "        # get all the annotations into a dataframe\n",
    "        for root, subdirs, files in os.walk(self.root_folder):\n",
    "            for file in files:\n",
    "                if file.endswith(\".txt\"):\n",
    "                    # add on to the code here\n",
    "                    df = pd.read_csv(os.path.join(root, file), header=None)\n",
    "                    df.columns = ['name']\n",
    "\n",
    "                    for i,j in enumerate(df.name):\n",
    "                        split_list = j.split(\" \",1)\n",
    "                        split_list_frame.append(split_list)\n",
    "\n",
    "        df_new = pd.DataFrame(split_list_frame, columns=['id', 'annotations']) # id and annotations are just dummy headers here\n",
    "        return df_new\n",
    "    \n",
    "    # helper function to create the json manifest file\n",
    "    def create_json_manifest(self):\n",
    "        \n",
    "        # check if the json filename have existed in the directory\n",
    "        self.json_existence()\n",
    "        \n",
    "        if self.got_annotation:\n",
    "            # get the lookup table\n",
    "            df_new = self.build_lookup_table()\n",
    "\n",
    "        # retrieve the dataframe lookup table\n",
    "        for root, subdirs, files in os.walk(self.root_folder):\n",
    "            for file in files:\n",
    "                if file.endswith(\".flac\"):\n",
    "                    # retrieve the base path for the particular audio file\n",
    "                    base_path = os.path.basename(os.path.join(root, file)).split('.')[0]\n",
    "\n",
    "                    # create the dictionary that is to be appended to the json file\n",
    "                    if self.got_annotation:\n",
    "                        data = {\n",
    "                                'audio_filepath' : os.path.join(root, file),\n",
    "                                'duration' : librosa.get_duration(filename=os.path.join(root, file)),\n",
    "                                'text' : df_new.loc[df_new['id'] == base_path, 'annotations'].to_numpy()[0]\n",
    "                               }\n",
    "                    else:\n",
    "                        data = {\n",
    "                                'audio_filepath' : os.path.join(root, file),\n",
    "                                'duration' : librosa.get_duration(filename=os.path.join(root, file)),\n",
    "                               }\n",
    "\n",
    "                    # write to json file\n",
    "                    with open(f'{self.root_folder}{self.manifest_filename}.json', 'a+', encoding='utf-8') as f:\n",
    "                        f.write(json.dumps(data) + '\\n')\n",
    "                        # json.dump(data, f, ensure_ascii=False, indent=2)\n",
    "                        # f.write('\\n')"
   ]
  },
  {
   "cell_type": "code",
   "execution_count": 5,
   "metadata": {},
   "outputs": [
    {
     "ename": "AssertionError",
     "evalue": "json filename exists! Please remove old json file!",
     "output_type": "error",
     "traceback": [
      "\u001b[0;31m---------------------------------------------------------------------------\u001b[0m",
      "\u001b[0;31mAssertionError\u001b[0m                            Traceback (most recent call last)",
      "Input \u001b[0;32mIn [5]\u001b[0m, in \u001b[0;36m<module>\u001b[0;34m\u001b[0m\n\u001b[1;32m      6\u001b[0m get_libri_manifest_no_label \u001b[38;5;241m=\u001b[39m LibrispeechManifest(root_folder\u001b[38;5;241m=\u001b[39mROOT_FOLDER, manifest_filename\u001b[38;5;241m=\u001b[39mMANIFEST_FILENAME_NO_LABEL, got_annotation\u001b[38;5;241m=\u001b[39mGOT_ANNOTATION[\u001b[38;5;241m1\u001b[39m])\n\u001b[1;32m      8\u001b[0m \u001b[38;5;66;03m# call the class method to produce the json manifest file\u001b[39;00m\n\u001b[0;32m----> 9\u001b[0m \u001b[43mget_libri_manifest\u001b[49m\u001b[38;5;241;43m.\u001b[39;49m\u001b[43mcreate_json_manifest\u001b[49m\u001b[43m(\u001b[49m\u001b[43m)\u001b[49m\n\u001b[1;32m     10\u001b[0m get_libri_manifest_no_label\u001b[38;5;241m.\u001b[39mcreate_json_manifest()\n",
      "Input \u001b[0;32mIn [3]\u001b[0m, in \u001b[0;36mLibrispeechManifest.create_json_manifest\u001b[0;34m(self)\u001b[0m\n\u001b[1;32m     34\u001b[0m \u001b[38;5;28;01mdef\u001b[39;00m \u001b[38;5;21mcreate_json_manifest\u001b[39m(\u001b[38;5;28mself\u001b[39m):\n\u001b[1;32m     35\u001b[0m     \n\u001b[1;32m     36\u001b[0m     \u001b[38;5;66;03m# check if the json filename have existed in the directory\u001b[39;00m\n\u001b[0;32m---> 37\u001b[0m     \u001b[38;5;28;43mself\u001b[39;49m\u001b[38;5;241;43m.\u001b[39;49m\u001b[43mjson_existence\u001b[49m\u001b[43m(\u001b[49m\u001b[43m)\u001b[49m\n\u001b[1;32m     39\u001b[0m     \u001b[38;5;28;01mif\u001b[39;00m \u001b[38;5;28mself\u001b[39m\u001b[38;5;241m.\u001b[39mgot_annotation:\n\u001b[1;32m     40\u001b[0m         \u001b[38;5;66;03m# get the lookup table\u001b[39;00m\n\u001b[1;32m     41\u001b[0m         df_new \u001b[38;5;241m=\u001b[39m \u001b[38;5;28mself\u001b[39m\u001b[38;5;241m.\u001b[39mbuild_lookup_table()\n",
      "Input \u001b[0;32mIn [3]\u001b[0m, in \u001b[0;36mLibrispeechManifest.json_existence\u001b[0;34m(self)\u001b[0m\n\u001b[1;32m     10\u001b[0m \u001b[38;5;28;01mdef\u001b[39;00m \u001b[38;5;21mjson_existence\u001b[39m(\u001b[38;5;28mself\u001b[39m):\n\u001b[0;32m---> 11\u001b[0m     \u001b[38;5;28;01massert\u001b[39;00m \u001b[38;5;129;01mnot\u001b[39;00m os\u001b[38;5;241m.\u001b[39mpath\u001b[38;5;241m.\u001b[39misfile(\u001b[38;5;124mf\u001b[39m\u001b[38;5;124m'\u001b[39m\u001b[38;5;132;01m{\u001b[39;00m\u001b[38;5;28mself\u001b[39m\u001b[38;5;241m.\u001b[39mroot_folder\u001b[38;5;132;01m}\u001b[39;00m\u001b[38;5;132;01m{\u001b[39;00m\u001b[38;5;28mself\u001b[39m\u001b[38;5;241m.\u001b[39mmanifest_filename\u001b[38;5;132;01m}\u001b[39;00m\u001b[38;5;124m.json\u001b[39m\u001b[38;5;124m'\u001b[39m), \u001b[38;5;124m\"\u001b[39m\u001b[38;5;124mjson filename exists! Please remove old json file!\u001b[39m\u001b[38;5;124m\"\u001b[39m\n",
      "\u001b[0;31mAssertionError\u001b[0m: json filename exists! Please remove old json file!"
     ]
    }
   ],
   "source": [
    "# instantiate LibrispeechManifest class object\n",
    "\n",
    "# with annotation\n",
    "get_libri_manifest = LibrispeechManifest(root_folder=ROOT_FOLDER, manifest_filename=MANIFEST_FILENAME, got_annotation=GOT_ANNOTATION[0])\n",
    "# without annotation\n",
    "get_libri_manifest_no_label = LibrispeechManifest(root_folder=ROOT_FOLDER, manifest_filename=MANIFEST_FILENAME_NO_LABEL, got_annotation=GOT_ANNOTATION[1])\n",
    "\n",
    "# call the class method to produce the json manifest file\n",
    "get_libri_manifest.create_json_manifest()\n",
    "get_libri_manifest_no_label.create_json_manifest()"
   ]
  },
  {
   "cell_type": "code",
   "execution_count": null,
   "metadata": {},
   "outputs": [],
   "source": []
  },
  {
   "cell_type": "code",
   "execution_count": 4,
   "metadata": {},
   "outputs": [],
   "source": []
  },
  {
   "cell_type": "code",
   "execution_count": null,
   "metadata": {},
   "outputs": [],
   "source": []
  },
  {
   "cell_type": "code",
   "execution_count": null,
   "metadata": {},
   "outputs": [],
   "source": []
  }
 ],
 "metadata": {
  "kernelspec": {
   "display_name": "Python 3 (ipykernel)",
   "language": "python",
   "name": "python3"
  },
  "language_info": {
   "codemirror_mode": {
    "name": "ipython",
    "version": 3
   },
   "file_extension": ".py",
   "mimetype": "text/x-python",
   "name": "python",
   "nbconvert_exporter": "python",
   "pygments_lexer": "ipython3",
   "version": "3.9.7"
  }
 },
 "nbformat": 4,
 "nbformat_minor": 4
}
