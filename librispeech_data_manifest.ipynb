{
 "cells": [
  {
   "cell_type": "code",
   "execution_count": 8,
   "metadata": {},
   "outputs": [],
   "source": [
    "# imports\n",
    "import os\n",
    "from os.path import join\n",
    "from tqdm import tqdm\n",
    "import numpy as np\n",
    "import pandas as pd\n",
    "import json\n",
    "import librosa"
   ]
  },
  {
   "cell_type": "code",
   "execution_count": 9,
   "metadata": {},
   "outputs": [],
   "source": [
    "# DEFINING CONSTANTS FOR THE FILE NAMING\n",
    "ROOT_FOLDER = './librispeech_data/'\n",
    "MANIFEST_FILENAME = 'manifest'\n",
    "MANIFEST_FILENAME_NO_LABEL = 'manifest_no_annotation'\n",
    "GOT_ANNOTATION = False"
   ]
  },
  {
   "cell_type": "code",
   "execution_count": null,
   "metadata": {},
   "outputs": [],
   "source": []
  },
  {
   "cell_type": "code",
   "execution_count": 10,
   "metadata": {},
   "outputs": [],
   "source": [
    "# helper function to build the lookup table for the id and annotations from all the text files and return the table\n",
    "def build_lookup_table(root_folder):\n",
    "    #initiate list to store the id and annotations lookup\n",
    "    split_list_frame = []\n",
    "    \n",
    "    # get all the annotations into a dataframe\n",
    "    for root, subdirs, files in os.walk(root_folder):\n",
    "        for file in files:\n",
    "            if file.endswith(\".txt\"):\n",
    "                # add on to the code here\n",
    "                df = pd.read_csv(os.path.join(root, file), header=None)\n",
    "                df.columns = ['name']\n",
    "\n",
    "                for i,j in enumerate(df.name):\n",
    "                    split_list = j.split(\" \",1)\n",
    "                    split_list_frame.append(split_list)\n",
    "                    \n",
    "    df_new = pd.DataFrame(split_list_frame, columns=['id', 'annotations']) # id and annotations are just dummy headers here\n",
    "    \n",
    "    return df_new"
   ]
  },
  {
   "cell_type": "code",
   "execution_count": 11,
   "metadata": {},
   "outputs": [],
   "source": [
    "# helper function to create the json manifest file\n",
    "def create_json_manifest(root_folder, manifest_filename, got_annotation):\n",
    "    \n",
    "    if got_annotation:\n",
    "        # get the lookup table\n",
    "        df_new = build_lookup_table(root_folder)\n",
    "    \n",
    "    # retrieve the dataframe lookup table\n",
    "    for root, subdirs, files in os.walk(root_folder):\n",
    "        for file in files:\n",
    "            if file.endswith(\".flac\"):\n",
    "                # retrieve the base path for the particular audio file\n",
    "                base_path = os.path.basename(os.path.join(root, file)).split('.')[0]\n",
    "                \n",
    "                # create the dictionary that is to be appended to the json file\n",
    "                if got_annotation:\n",
    "                    data = {'audio_filepath' : os.path.join(root, file),\n",
    "                            'duration' : librosa.get_duration(filename=os.path.join(root, file)),\n",
    "                            'text' : df_new.loc[df_new['id'] == base_path, 'annotations'].to_numpy()[0]\n",
    "                           }\n",
    "                else:\n",
    "                    data = {'audio_filepath' : os.path.join(root, file),\n",
    "                            'duration' : librosa.get_duration(filename=os.path.join(root, file)),\n",
    "                           }\n",
    "\n",
    "                # write to json file\n",
    "                with open(f'{root_folder}{manifest_filename}.json', 'a+', encoding='utf-8') as f:\n",
    "                    f.write(json.dumps(data) + '\\n')\n",
    "                    # json.dump(data, f, ensure_ascii=False, indent=2)\n",
    "                    # f.write('\\n')"
   ]
  },
  {
   "cell_type": "code",
   "execution_count": null,
   "metadata": {},
   "outputs": [],
   "source": []
  },
  {
   "cell_type": "code",
   "execution_count": 7,
   "metadata": {},
   "outputs": [],
   "source": [
    "# got annotation\n",
    "create_json_manifest(root_folder=ROOT_FOLDER, \n",
    "                     manifest_filename=MANIFEST_FILENAME,\n",
    "                     got_annotation=True)"
   ]
  },
  {
   "cell_type": "code",
   "execution_count": 12,
   "metadata": {},
   "outputs": [],
   "source": [
    "# no annotation\n",
    "create_json_manifest(root_folder=ROOT_FOLDER, \n",
    "                     manifest_filename=MANIFEST_FILENAME_NO_LABEL,\n",
    "                     got_annotation=False)"
   ]
  },
  {
   "cell_type": "code",
   "execution_count": null,
   "metadata": {},
   "outputs": [],
   "source": []
  },
  {
   "cell_type": "code",
   "execution_count": null,
   "metadata": {},
   "outputs": [],
   "source": []
  }
 ],
 "metadata": {
  "kernelspec": {
   "display_name": "Python 3 (ipykernel)",
   "language": "python",
   "name": "python3"
  },
  "language_info": {
   "codemirror_mode": {
    "name": "ipython",
    "version": 3
   },
   "file_extension": ".py",
   "mimetype": "text/x-python",
   "name": "python",
   "nbconvert_exporter": "python",
   "pygments_lexer": "ipython3",
   "version": "3.9.7"
  }
 },
 "nbformat": 4,
 "nbformat_minor": 4
}
